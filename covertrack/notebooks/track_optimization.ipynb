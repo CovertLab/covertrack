{
 "cells": [
  {
   "cell_type": "code",
   "execution_count": 3,
   "metadata": {
    "collapsed": false
   },
   "outputs": [],
   "source": [
    "from os.path import dirname, join\n",
    "import os, sys\n",
    "COVERTRACK_PATH = dirname(os.path.abspath(os.curdir))\n",
    "sys.path.append(COVERTRACK_PATH)\n",
    "from tracking.track_utils.track_param_optim import TrackOptimizer\n",
    "%matplotlib inline"
   ]
  },
  {
   "cell_type": "code",
   "execution_count": 4,
   "metadata": {
    "collapsed": true
   },
   "outputs": [],
   "source": [
    "TEST_INPUT = join(dirname(COVERTRACK_PATH), 'tests', 'integrate_tests', 'input_bigger_images.py')"
   ]
  },
  {
   "cell_type": "code",
   "execution_count": 5,
   "metadata": {
    "collapsed": false
   },
   "outputs": [],
   "source": [
    "# give inputs like this. You will optimize for the last algorithm.\n",
    "input_path = TEST_INPUT\n",
    "track_func = ('run_lap', 'nearest_neighbor','watershed_distance')\n",
    "track_param = (dict(DISPLACEMENT=150),dict(DISPLACEMENT=200, MASSTHRES=50), {})"
   ]
  },
  {
   "cell_type": "code",
   "execution_count": 6,
   "metadata": {
    "collapsed": false
   },
   "outputs": [
    {
     "name": "stdout",
     "output_type": "stream",
     "text": [
      "loading...\n",
      "678 cells linked, 7 cells unlinked\n"
     ]
    }
   ],
   "source": [
    "TrackOptimizer(input_path, track_func, track_param).run()"
   ]
  },
  {
   "cell_type": "code",
   "execution_count": null,
   "metadata": {
    "collapsed": true
   },
   "outputs": [],
   "source": []
  }
 ],
 "metadata": {
  "kernelspec": {
   "display_name": "Python 2",
   "language": "python",
   "name": "python2"
  },
  "language_info": {
   "codemirror_mode": {
    "name": "ipython",
    "version": 2
   },
   "file_extension": ".py",
   "mimetype": "text/x-python",
   "name": "python",
   "nbconvert_exporter": "python",
   "pygments_lexer": "ipython2",
   "version": "2.7.11"
  }
 },
 "nbformat": 4,
 "nbformat_minor": 0
}
